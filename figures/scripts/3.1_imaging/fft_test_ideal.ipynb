{
 "cells": [
  {
   "cell_type": "code",
   "execution_count": 65,
   "metadata": {},
   "outputs": [],
   "source": [
    "import torch, pickle, sys\n",
    "sys.path.append('/home/dgotzens/scripts')\n",
    "import pdfdefaults as pdf\n",
    "import matplotlib.pyplot as plt\n",
    "from matplotlib.ticker import EngFormatter, FuncFormatter\n",
    "from math import sin,cos,sqrt,log10\n",
    "pi = 3.141592653589 \n",
    "maxdist = 50\n",
    "c0 = 299_792_458 \n",
    "f0, f1 = 76_009_996_288.0, 80_289_505_280.0\n",
    "omega0, omega1 = 2*pi*f0, 2*pi*f1\n",
    "\n",
    "t_chirp = 0.000_064_890_002_249_740_060\n",
    "fs = 22e6\n",
    "Ts=1/fs\n",
    "\n",
    "omegadot = (omega1-omega0)/t_chirp\n",
    "\n",
    "folder = '/home/dgotzens/scripts/2.2_antenna-characteristics/measured/'\n",
    "params = pickle.load(open(folder+'feparams.pkl', 'rb'))\n",
    "tx,ty,rx,ry,vx,vy = params['txPosX'], params['txPosY'], params['rxPosX'], params['rxPosY'], params['vxPosX'], params['vxPosY']\n",
    "\n",
    "M=1022\n",
    "K=len(tx)\n",
    "ula_idx = torch.full((max(vx)+1,max(vy)+1), -1)\n",
    "for k, (x,y) in enumerate(zip(vx,vy)):\n",
    "    if ula_idx[x,y] == -1:\n",
    "        ula_idx[x,y] = k\n",
    "\n",
    "def calc_image(data, weights, settings):\n",
    "    # range FFT\n",
    "    N, window = settings['N_range'], settings['range_window']\n",
    "    range_fft = torch.fft.fftshift(torch.fft.fft(window[:,None]*data, N, 0),0)\n",
    "    range_fft /= window.sum()\n",
    "    # apply calibration\n",
    "    range_fft /= weights        \n",
    "\n",
    "    \n",
    "    if not settings['enable_elevation']:\n",
    "        N, window = settings['N_azm'], settings['azm_window']\n",
    "        ula = settings['ula_idx'][:,0]\n",
    "        azimuth_fft = torch.fft.fftshift(torch.fft.fft(window*range_fft[:,ula],N,1))\n",
    "        return azimuth_fft\n",
    "    \n",
    "    # reshape into ULA\n",
    "    idx = settings['ula_idx']\n",
    "    padded_shape = (settings['N_range'], *idx.shape)\n",
    "    fft_padded = torch.zeros(padded_shape, dtype=torch.cfloat)\n",
    "\n",
    "    for m in range(idx.shape[0]):\n",
    "        for n in range(idx.shape[1]):\n",
    "            if idx[m,n] >= 0:\n",
    "                fft_padded[:,m,n] = range_fft[:,idx[m,n]]\n",
    "    \n",
    "    # azimuth FFT\n",
    "    N, window = settings['N_azm'], settings['azm_window']\n",
    "    azimuth_fft = torch.fft.fft(window[None,:,None]*fft_padded,N,1)\n",
    "    azimuth_fft /= window.sum()\n",
    "\n",
    "    # deconvolve\n",
    "    gaps = idx>=0\n",
    "    gaps_fft = torch.fft.fft(window[:,None]*gaps, N, 0)\n",
    "    azimuth_fft /= (gaps_fft+1) # +1 to avoid divergence\n",
    "    # elevation FFT\n",
    "    N, window = settings['N_elv'], settings['elv_window']\n",
    "    elevation_fft = torch.fft.fft(window*azimuth_fft, N, 2)\n",
    "    elevation_fft /= window.sum()\n",
    "    \n",
    "    return elevation_fft\n",
    "\n",
    "def r_est(R, theta0, K=192):\n",
    "    # 3xK\n",
    "    txpos = torch.tensor([tx,ty,[0]*K])\n",
    "    rxpos = torch.tensor([rx,ry,[0]*K])\n",
    "    # 3x1xR\n",
    "    reflpos = R[None,None,:]*torch.tensor([-sin(-theta0), 0, cos(-theta0)])[:,None,None]\n",
    "    # 3xKx1 - 3x1xR = 3xKxR -> KxR\n",
    "    return 0.5*torch.sqrt(((txpos[:,:,None]-reflpos)**2).sum(0))\\\n",
    "          + 0.5*torch.sqrt(((rxpos[:,:,None]-reflpos)**2).sum(0))\n",
    "\n",
    "dBr = lambda x: 20*(x/x.abs().max()).log10()\n"
   ]
  },
  {
   "cell_type": "code",
   "execution_count": 185,
   "metadata": {},
   "outputs": [
    {
     "name": "stderr",
     "output_type": "stream",
     "text": [
      "/tmp/ipykernel_3733864/3057014530.py:34: UserWarning: FigureCanvasPgf is non-interactive, and thus cannot be shown\n",
      "  plt.show()\n"
     ]
    }
   ],
   "source": [
    "dist = torch.tensor([.3,.5,1,2,5,10,15,25,40])\n",
    "D=len(dist)\n",
    "tau = 2*r_est(dist,-0/180*pi)[None,:,:]/c0\n",
    "\n",
    "data = torch.exp(1j * omegadot * tau * torch.arange(0,M)[:,None,None]*Ts - 1j*omega0*tau)\n",
    "\n",
    "settings = {\n",
    "    'N_range': 1024,\n",
    "    'N_azm':512,\n",
    "    'N_elv': 8,\n",
    "    'range_window': torch.hann_window(M),\n",
    "    'azm_window': torch.hann_window(max(vx)+1),\n",
    "    'elv_window': torch.hann_window(max(vy)+1),\n",
    "    'ula_idx': ula_idx,\n",
    "    'enable_elevation': False\n",
    "    }\n",
    "\n",
    "N = settings['N_azm']\n",
    "weights = torch.ones(K)\n",
    "m_refl = (settings['N_range'] * dist/maxdist).int()\n",
    "angle = -180/pi*torch.asin(2*torch.arange(N)/N-1)\n",
    "pdf.setup()\n",
    "plt.figure()\n",
    "for d in range(D):\n",
    "    img = calc_image(data[:,:,d], weights, settings)[m_refl[d],:]\n",
    "    plt.plot(angle, dBr(img.abs()), linewidth=0.1+d*0.2, label=f'{dist[d]:.1f}m')\n",
    "plt.legend(ncols=3)\n",
    "plt.xlim(-20,20)\n",
    "plt.gcf().set_figheight(0.7*pdf.a4_textwidth)\n",
    "plt.gca().xaxis.set_major_formatter(EngFormatter('°'))\n",
    "plt.gca().yaxis.set_major_formatter(EngFormatter('dBr'))\n",
    "plt.grid()\n",
    "plt.savefig('/home/dgotzens/thesis/figures/fft_doa_peak.pdf')\n",
    "plt.show()"
   ]
  },
  {
   "cell_type": "code",
   "execution_count": 161,
   "metadata": {},
   "outputs": [
    {
     "name": "stdout",
     "output_type": "stream",
     "text": [
      "round(1000*lambda0,3)=3.944mm, round(100*aperture,3)=16.96cm, round(df,3)=14.585m\n"
     ]
    }
   ],
   "source": [
    "lambda0 = c0/f0\n",
    "aperture = 86*lambda0/2\n",
    "df = 2*aperture**2 / lambda0\n",
    "\n",
    "print(f'{round(1000*lambda0,3)=}mm, {round(100*aperture,3)=}cm, {round(df,3)=}m')"
   ]
  },
  {
   "cell_type": "code",
   "execution_count": 50,
   "metadata": {},
   "outputs": [],
   "source": [
    "sigma = sqrt(0.5)\n",
    "noise = sqrt(sigma)*torch.randn((M,K), dtype=torch.cfloat)\n",
    "dist = torch.tensor([30])\n",
    "# dist = torch.linspace(1,30,3)\n",
    "tau = 2*r_est(dist,-0/180*pi)[None,:,:]/c0\n",
    "data = torch.exp(-1j * omegadot * tau * torch.arange(0,M)[:,None,None]*Ts - 1j*omega0*tau)\n",
    "\n",
    "settings = {\n",
    "    'N_range': 1024,\n",
    "    'N_azm':512,\n",
    "    'N_elv': 8,\n",
    "    'range_window': torch.hann_window(M),\n",
    "    'azm_window': torch.hann_window(max(vx)+1),\n",
    "    'elv_window': torch.hann_window(max(vy)+1),\n",
    "    'ula_idx': ula_idx,\n",
    "    'enable_elevation': False\n",
    "    }\n",
    "\n",
    "weights = torch.ones(K)\n",
    "\n",
    "# for n, d in enumerate(dist):\n",
    "#     plt.plot(data.real[10,ula_idx[:,0],n])\n",
    "#     plt.title(f'{d:.1f}m')\n",
    "#     plt.show()"
   ]
  },
  {
   "cell_type": "code",
   "execution_count": 53,
   "metadata": {},
   "outputs": [
    {
     "name": "stdout",
     "output_type": "stream",
     "text": [
      "mean_Ps=27.210, mean_Pn=0.000, 10*log10(mean_Ps/mean_Pn)=infdB\n"
     ]
    },
    {
     "data": {
      "image/png": "[encoded data removed]",
      "text/plain": [
       "<Figure size 443.443x480 with 1 Axes>"
      ]
     },
     "metadata": {},
     "output_type": "display_data"
    }
   ],
   "source": [
    "#pdf.setup()\n",
    "%matplotlib inline\n",
    "plt.figure()\n",
    "N = settings['N_azm']\n",
    "angle = -180/pi*torch.asin(2*torch.arange(N)/N-1)\n",
    "for n, (d,style) in enumerate(zip(dist,('x-','-','--'))):\n",
    "    mean_img = torch.zeros(N)\n",
    "    mean_Pn = 0\n",
    "    m_refl = int(round(float(settings['N_range'] * d/maxdist)))\n",
    "\n",
    "    iterations = 1000\n",
    "    img_signal = calc_image(data[:,:,n].conj(), weights, settings).abs()[m_refl,:]\n",
    "    mean_Ps = img_signal.square().mean()\n",
    "\n",
    "    # for i in range(iterations):\n",
    "    #     noise = sqrt(sigma)*torch.randn((M,K), dtype=torch.cfloat)\n",
    "    #     img_noise = calc_image(data, weights, settings).abs()[m_refl,:]\n",
    "    #     mean_Pn += img_noise.square().mean()/iterations\n",
    "    plt.plot(angle, dBr(img_signal), style, label=f'{d:.1f}m: SNR$_{{out}}={10*log10(mean_Ps/mean_Pn):.1f}$dB')\n",
    "    print(f'{mean_Ps=:.3f}, {mean_Pn=:.3f}, {10*log10(mean_Ps/mean_Pn)=:.3f}dB')\n",
    "plt.ylim(-60,3)\n",
    "plt.xlim(-10,10)\n",
    "ax=plt.gca()\n",
    "ax.xaxis.set_major_formatter(EngFormatter('°'))\n",
    "ax.yaxis.set_major_formatter(EngFormatter('dBr'))\n",
    "plt.grid()\n",
    "# plt.title(f'Intensity in Azimuth\\nSNR={20*log10(1/sigma):.1f}dB')\n",
    "plt.legend()\n",
    "plt.gcf().set_figwidth(0.7*pdf.a4_textwidth)\n",
    "plt.show()\n",
    "#plt.savefig('/home/dgotzens/thesis/figures/fft_doa_accuracy.pdf')\n"
   ]
  }
 ],
 "metadata": {
  "kernelspec": {
   "display_name": ".venv",
   "language": "python",
   "name": "python3"
  },
  "language_info": {
   "codemirror_mode": {
    "name": "ipython",
    "version": 3
   },
   "file_extension": ".py",
   "mimetype": "text/x-python",
   "name": "python",
   "nbconvert_exporter": "python",
   "pygments_lexer": "ipython3",
   "version": "3.11.2"
  }
 },
 "nbformat": 4,
 "nbformat_minor": 2
}
