{
 "cells": [
  {
   "cell_type": "code",
   "execution_count": null,
   "metadata": {},
   "outputs": [
    {
     "ename": "",
     "evalue": "",
     "output_type": "error",
     "traceback": [
      "\u001b[1;31mFailed to start the Kernel '.venv (Python 3.11.2)'. \n",
      "\u001b[1;31mView Jupyter <a href='command:jupyter.viewOutput'>log</a> for further details. ENOENT: no such file or directory, open '/home/dgotzens/localstorage/tmp/kernel-v2-1866917iGdmoaT6o7a5.json'"
     ]
    }
   ],
   "source": [
    "import tools\n",
    "import torch\n",
    "import timedataparser\n",
    "import matplotlib.pyplot as plt\n",
    "\n",
    "header,time,data,temp = timedataparser.load_all('/home/dgotzens/recording/23-10-31_off-center/')\n",
    "plt.imshow(20*tools.rangedata(data, 128).abs().mean(1).log10(), origin='lower')\n",
    "plt.show()"
   ]
  }
 ],
 "metadata": {
  "kernelspec": {
   "display_name": ".venv",
   "language": "python",
   "name": "python3"
  },
  "language_info": {
   "name": "python",
   "version": "3.11.2"
  }
 },
 "nbformat": 4,
 "nbformat_minor": 2
}
