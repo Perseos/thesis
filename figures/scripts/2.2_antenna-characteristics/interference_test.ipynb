{
 "cells": [
  {
   "cell_type": "code",
   "execution_count": 6,
   "metadata": {},
   "outputs": [
    {
     "name": "stdout",
     "output_type": "stream",
     "text": [
      "torch.Size([1000, 512]) torch.Size([1000, 512])\n"
     ]
    }
   ],
   "source": [
    "import torch, sys\n",
    "sys.path.append('/home/dgotzens/scripts')\n",
    "import pdfdefaults as pdf\n",
    "import matplotlib.pyplot as plt\n",
    "from matplotlib.ticker import EngFormatter\n",
    "\n",
    "N = 2**16\n",
    "M = 512\n",
    "T = 1000\n",
    "pi = 3.141592653589 \n",
    "\n",
    "fs = 22e6\n",
    "Ts = 1/fs\n",
    "\n",
    "f0 = 5e6\n",
    "omega0 = 2*pi*f0\n",
    "f = torch.linspace(4e6,7e6,T)[:,None]\n",
    "omega = 2*pi*f\n",
    "m = torch.arange(M)[None,:]\n",
    "\n",
    "yid = 1*torch.exp(1j*omega*m*Ts)\n",
    "y = yid + 0.9*torch.exp(1j*omega0*m*Ts) + 0.01*torch.randn((T,M), dtype=torch.cfloat)\n",
    "# y = 0.1*torch.exp(1j*omega0*m*Ts)\n",
    "\n",
    "print(yid.shape, y.shape)"
   ]
  },
  {
   "cell_type": "code",
   "execution_count": 7,
   "metadata": {},
   "outputs": [],
   "source": [
    "w = torch.hann_window(M)[None,:]\n",
    "Yid = torch.fft.fft(w*yid,n=N,dim=-1)\n",
    "Y = torch.fft.fft(w*y,n=N,dim=-1)\n"
   ]
  },
  {
   "cell_type": "code",
   "execution_count": 20,
   "metadata": {},
   "outputs": [],
   "source": [
    "pdf.setup()\n",
    "dBr = lambda x : 20*(x.abs()/x.abs().max()).log10()\n",
    "fig,ax = plt.subplots(2,2, sharex=True, sharey=True, layout='constrained')\n",
    "fig.set_size_inches(pdf.a4_textwidth, 0.6*pdf.a4_textwidth)\n",
    "\n",
    "ax[0,0].imshow(dBr(Yid[:,:N//2].T), origin='lower', aspect=T/N)\n",
    "ax[0,0].set_title(r'$20log|Y_{id}|$')\n",
    "ax[0,1].imshow(dBr(Y[:,:N//2].T), origin='lower', aspect=T/N)\n",
    "ax[0,1].set_title(r'$20log|Y_{}|$')\n",
    "ax[1,1].imshow(Y[:,:N//2].T.angle(), origin='lower', aspect=T/N)\n",
    "ax[1,1].set_title(r'arg$Y_{}$')\n",
    "ax[1,0].imshow(Yid[:,:N//2].T.angle(), origin='lower', aspect=T/N)\n",
    "ax[1,0].set_title(r'arg$Y_{id}$')\n",
    "\n",
    "   \n",
    "for m, a in enumerate(ax.flat):\n",
    "    a.set_yticks(range(0,N//2,N//8), [f'{n/N*fs/1e6:.1f}MHz' for n in range(0,N//2,N//8)])\n",
    "    a.set_xticks(range(0,T,T//4), [f'{float(f[t])/1e6:.1f}MHz' for t in range(0,T,T//4)])\n",
    "    a.grid()\n",
    "    if m//2==1: a.set_xlabel('ideal frequency')\n",
    "    if m%2==0: a.set_ylabel('FFT frequency')\n",
    "    \n",
    "\n",
    "fig.savefig('/home/dgotzens/thesis/figures/interference_test_fft.pdf')"
   ]
  },
  {
   "cell_type": "code",
   "execution_count": 40,
   "metadata": {},
   "outputs": [],
   "source": [
    "plt.figure(layout='constrained')\n",
    "plt.plot(Yid.abs().argmax(-1)*fs/N, Y.abs().argmax(-1)*fs/N, label=r'arg max$|Y|$')\n",
    "plt.plot(Yid.abs().argmax(-1)*fs/N, Yid.abs().argmax(-1)*fs/N, 'k:', label=r'arg max$|Y_{id}|$')\n",
    "plt.gca().yaxis.set_major_formatter(EngFormatter('Hz'))\n",
    "plt.gca().xaxis.set_major_formatter(EngFormatter('Hz'))\n",
    "plt.xlabel('ideal')\n",
    "plt.ylabel('estimate')\n",
    "plt.xlim(f0-2e5, f0+2e5)\n",
    "plt.ylim(f0-2e5, f0+2e5)\n",
    "plt.grid()\n",
    "plt.legend()\n",
    "plt.gcf().set_size_inches(0.5*pdf.a4_textwidth, 0.5*pdf.a4_textwidth)\n",
    "plt.savefig('/home/dgotzens/thesis/figures/interference_test_peak.pdf')"
   ]
  },
  {
   "cell_type": "code",
   "execution_count": 39,
   "metadata": {},
   "outputs": [
    {
     "name": "stdout",
     "output_type": "stream",
     "text": [
      "torch.Size([1000, 65536])\n"
     ]
    }
   ],
   "source": [
    "nid = Yid.abs().argmax(-1)\n",
    "n = Y.abs().argmax(-1)\n",
    "print(Yid.shape)\n",
    "plt.figure(layout='constrained')\n",
    "plt.plot(nid/N*fs, 180/pi*Yid.angle()[range(T),nid], 'k:', label='ideal phase')\n",
    "plt.plot(nid/N*fs, 180/pi*Y.angle()[range(T),nid], label='degraded phase at $f_{max,id}$')\n",
    "plt.plot(nid/N*fs, 180/pi*Y.angle()[range(T),n], label='degraded phase at $f_{max}$')\n",
    "plt.gca().yaxis.set_major_formatter(EngFormatter('°'))\n",
    "#plt.xticks(torch.linspace(f0-2e5, f0+2e5, 5))\n",
    "plt.gca().xaxis.set_major_formatter(EngFormatter('Hz'))\n",
    "# plt.xlabel('$f_{id}$')\n",
    "plt.ylabel('phase')\n",
    "plt.xlabel('ideal frequency')\n",
    "plt.xlim(omega0/2/pi-2e5, omega0/2/pi+2e5)\n",
    "# plt.ylim(omega0/2/pi-2e5, omega0/2/pi+2e5)\n",
    "plt.grid()\n",
    "plt.legend()\n",
    "plt.gcf().set_size_inches(0.5*pdf.a4_textwidth, 0.5*pdf.a4_textwidth)\n",
    "plt.savefig('/home/dgotzens/thesis/figures/interference_peak_phase.pdf')"
   ]
  }
 ],
 "metadata": {
  "kernelspec": {
   "display_name": ".venv",
   "language": "python",
   "name": "python3"
  },
  "language_info": {
   "codemirror_mode": {
    "name": "ipython",
    "version": 3
   },
   "file_extension": ".py",
   "mimetype": "text/x-python",
   "name": "python",
   "nbconvert_exporter": "python",
   "pygments_lexer": "ipython3",
   "version": "3.11.2"
  }
 },
 "nbformat": 4,
 "nbformat_minor": 2
}
