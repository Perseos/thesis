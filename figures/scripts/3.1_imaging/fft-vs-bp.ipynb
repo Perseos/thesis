{
 "cells": [
  {
   "cell_type": "code",
   "execution_count": 1,
   "metadata": {},
   "outputs": [
    {
     "name": "stdout",
     "output_type": "stream",
     "text": [
      "cpu\n"
     ]
    }
   ],
   "source": [
    "import matplotlib.pyplot as plt\n",
    "from matplotlib.ticker import EngFormatter, FuncFormatter\n",
    "import torch, pickle, numpy\n",
    "\n",
    "\n",
    "# setup\n",
    "device = torch.device(\"cuda:0\" if torch.cuda.is_available() else \"cpu\")\n",
    "print(device)\n",
    "nfft = 2**18\n",
    "pi = 3.141592653589 \n",
    "maxdist = 50\n",
    "lightspeed = 299_792_458 \n",
    "f_start, f_end = 76_010_000_056.0, 80_289_505_280.0\n",
    "t_start, t_end =  2e-6, 66.1e-6\n",
    "# ramp_slope = (f_start-f_end) / (t_start-t_end)\n",
    "ramp_slope = 65_950.2e9\n",
    "hertz_per_meter = ramp_slope / lightspeed\n",
    "bins_per_meter = nfft / maxdist\n",
    "fs = 22e6\n",
    "Ts = 1/fs\n",
    "beta = 2*pi*ramp_slope\n",
    "\n",
    "folder = '/home/dgotzens/scripts/2.2_antenna-characteristics/measured/'\n",
    "dists = [2.143, 8.099, 18.016, 32.284]\n",
    "\n",
    "angles = [pickle.load(open(folder+f'a{int(dist):02d}_angle.pkl', 'rb')) for dist in dists]\n",
    "degs = [list(map(lambda a : round(a*180/pi - 90), angle)) for angle in angles]\n",
    "l_degs = [[deg.index(a) for a in sorted(set(deg)) if -60<a<60] for deg in degs]\n",
    "l_sels = [[l for l,a in enumerate(angle) if -50<180/pi*a-90<50] for angle in angles]\n",
    "angles_filtered = [[angle[l] for l in l_deg] for angle,l_deg in zip(angles,l_degs)]\n",
    "#angles_filtered = [[angle[l] for l in l_sel] for angle,l_sel in zip(angles,l_sels)]\n",
    "params = pickle.load(open(folder+'feparams.pkl', 'rb'))\n",
    "tx,ty,rx,ry = params['txPosX'], params['txPosY'], params['rxPosX'], params['rxPosY']\n",
    "vx, vy = params['vxPosX'], params['vxPosY']\n",
    "\n",
    "ula = [[x if y==0 else -2000 for x,y in zip(vx,vy)].index(i) for i in range(max(vx)+1)]\n",
    "\n",
    "folder = '/home/dgotzens/scripts/3.1_imaging/measured_gains/'\n",
    "with open(folder+'gains.pkl', 'rb') as f:\n",
    "    gains = pickle.load(f)\n",
    "with open(folder+'taus.pkl', 'rb') as f:\n",
    "    taus = pickle.load(f)"
   ]
  },
  {
   "cell_type": "code",
   "execution_count": 2,
   "metadata": {},
   "outputs": [],
   "source": [
    "folder = '/home/dgotzens/recording/'\n",
    "angle = pickle.load(open(folder + 'a02_angle.pkl', 'rb'))\n",
    "l_deg = l_degs[0]\n",
    "angle_deg = [180/pi*angle[l]-90 for l in l_deg]\n",
    "gain = gains[0]\n",
    "angle = torch.tensor(angle)[l_deg]\n",
    "dBr = lambda x : 20*x.abs().log10() - 20*x.abs().log10().max()\n",
    "data = torch.load(folder + 'a02_data.pt')[:,:,l_deg]\n",
    "M,K,L = data.shape\n"
   ]
  },
  {
   "cell_type": "markdown",
   "metadata": {},
   "source": [
    "### FFT"
   ]
  },
  {
   "cell_type": "code",
   "execution_count": 3,
   "metadata": {},
   "outputs": [],
   "source": [
    "from torch.fft import fft, fftshift, ifftshift\n",
    "N_range = 1024\n",
    "range_fft = fft(torch.hann_window(M)[:,None,None]*data[:,ula,:], n=N_range, dim=0)\n",
    "range_fft /= gain[ula,60,None]\n",
    "\n",
    "N_azm = 120\n",
    "azm_fft = fftshift(fft(torch.hann_window(len(ula))[:,None]*range_fft, n=N_azm, dim=1), dim=1)"
   ]
  },
  {
   "cell_type": "code",
   "execution_count": 4,
   "metadata": {},
   "outputs": [
    {
     "data": {
      "image/png": "[encoded data removed]",
      "text/plain": [
       "<Figure size 2000x480 with 3 Axes>"
      ]
     },
     "metadata": {},
     "output_type": "display_data"
    }
   ],
   "source": [
    "m_min = int(1 * N_range / maxdist)\n",
    "m_max = int(3 * N_range / maxdist)\n",
    "from math import sin\n",
    "fig, axes = plt.subplots(1,3)\n",
    "for l, ax in zip((30,60,90), axes):\n",
    "    im=ax.imshow(dBr(azm_fft[m_min:m_max,:,l]), origin='lower', vmin=-40, vmax=0)\n",
    "    ax.set_xticks([0.5*N_azm*(1+sin(angle[l]-pi/2)) for l in range(0, L, 20)] + [0.5*N_azm*(1+sin(pi/3))],\\\n",
    "                  [f'{round(angle_deg[l],-1):.0f}°' for l in range(0, L, 20)] + ['60°'])\n",
    "    #ax.set_xticks([0.5*N_azm*(1+sin(angle[l]-pi/2)) for l in range(0, L, 3)], minor=True)\n",
    "    ax.set_yticks(range(0,m_max-m_min, (m_max-m_min)//2),\\\n",
    "                  [f'{round(m/N_range*maxdist)}m' for m in range(m_min,m_max,(m_max-m_min)//2)])\n",
    "    ax.grid()\n",
    "    ax.set_title(f'target at {round(angle_deg[l],1)}°')\n",
    "fig.set_figwidth(20)"
   ]
  },
  {
   "cell_type": "markdown",
   "metadata": {},
   "source": [
    "### Backprojection"
   ]
  },
  {
   "cell_type": "code",
   "execution_count": 5,
   "metadata": {},
   "outputs": [
    {
     "name": "stdout",
     "output_type": "stream",
     "text": [
      "torch.Size([119, 80, 3])\n",
      "torch.Size([192, 119, 80])\n"
     ]
    }
   ],
   "source": [
    "tau_meas = taus[0].unflatten(0,(K,L))\n",
    "R = 80\n",
    "sampledists = torch.linspace(1,3,R)\n",
    "points = sampledists.unsqueeze(-1) * \\\n",
    "    torch.stack([\\\n",
    "        -torch.sin(angle-pi/2),\\\n",
    "        torch.zeros(L),\\\n",
    "        torch.cos(angle-pi/2)\\\n",
    "    ]).T.unsqueeze(1)\n",
    "print(points.shape) # L,R,3\n",
    "\n",
    "txpos = torch.tensor([tx,ty,[0]*len(tx)]).T.unsqueeze(1).unsqueeze(1)\n",
    "rxpos = torch.tensor([rx,ry,[0]*len(rx)]).T.unsqueeze(1).unsqueeze(1)\n",
    "tau = 1/lightspeed * ((txpos-points).square().sum(-1).sqrt() + (rxpos-points).square().sum(-1).sqrt())\n",
    "print(tau.shape) # K,L,R\n",
    "#gain_shifted = gain[:,:,None] * torch.exp(1j*2*pi*0 * (tau-tau_meas[:,:,None])) # K,L,R\n",
    "\n",
    "# plt.imshow(tau[:,:,30])\n",
    "# plt.colorbar()\n",
    "# plt.show()\n",
    "# plt.imshow(tau_meas[:,:]+0.1e-8, vmin=tau[:,:,30].min(), vmax=tau[:,:,30].max())\n",
    "# plt.colorbar()\n",
    "# plt.show()\n"
   ]
  },
  {
   "cell_type": "code",
   "execution_count": 6,
   "metadata": {},
   "outputs": [],
   "source": [
    "weights=None\n",
    "weights = gain[None,:,:,None]\\\n",
    "        * torch.exp(1j*beta*tau[None,:,:,:]\\\n",
    "        * torch.arange(M)[:,None,None,None] * Ts)\\\n",
    "        * torch.hann_window(M)[:,None,None,None] # M,K,L,R\n",
    "\n",
    "P = 1000\n",
    "T=L"
   ]
  },
  {
   "cell_type": "code",
   "execution_count": 8,
   "metadata": {},
   "outputs": [
    {
     "name": "stdout",
     "output_type": "stream",
     "text": [
      "keep.sum()=tensor(870)\r"
     ]
    },
    {
     "name": "stdout",
     "output_type": "stream",
     "text": [
      "keep.sum()=tensor(374)\r"
     ]
    }
   ],
   "source": [
    "fig = plt.figure()\n",
    "ax = plt.axes()\n",
    "im = ax.imshow(torch.zeros(R,L), origin='lower', vmin=-40, vmax=0)\n",
    "ax.set_xticks(range(0, T, round(T/6)), [f'{round(angle_deg[l],-1)}°' for l in range(0,T,round(T/6))])\n",
    "ax.set_yticks(range(0,R,R//2), [f'{round(sampledists.tolist()[r],1)}m' for r in range(0,R,R//2)])\n",
    "ax.grid()\n",
    "sample_abs = torch.zeros(P)\n",
    "sample_idx = torch.zeros(P).long()\n",
    "\n",
    "def init():\n",
    "    im.set_data(torch.zeros(R,L))\n",
    "    return im,\n",
    "\n",
    "def update(t):\n",
    "    global sample_abs, sample_idx\n",
    "    img = torch.full((L*R,),1e-12)\n",
    "    keep = sample_abs > sample_abs.max()/100\n",
    "    print(f'{keep.sum()=}', end='\\r')\n",
    "    sample_idx = torch.where(keep, sample_idx, torch.randint(L*R, (P,)))\n",
    "    sample_abs = (weights.flatten(2)[:,:,sample_idx].conj() * data[:,:,t,None]).sum((0,1)).abs()\n",
    "    img[sample_idx] = sample_abs\n",
    "    im.set_data(dBr(img).unflatten(0,(L,R)).T)\n",
    "    return im,\n",
    "\n",
    "from matplotlib.animation import FuncAnimation\n",
    "anim = FuncAnimation(fig,update,init_func=init,interval=100,frames=T)\n",
    "anim.save('/home/dgotzens/Schreibtisch/backproj_random_targets.mp4')\n"
   ]
  }
 ],
 "metadata": {
  "kernelspec": {
   "display_name": ".venv",
   "language": "python",
   "name": "python3"
  },
  "language_info": {
   "codemirror_mode": {
    "name": "ipython",
    "version": 3
   },
   "file_extension": ".py",
   "mimetype": "text/x-python",
   "name": "python",
   "nbconvert_exporter": "python",
   "pygments_lexer": "ipython3",
   "version": "3.11.2"
  }
 },
 "nbformat": 4,
 "nbformat_minor": 2
}
