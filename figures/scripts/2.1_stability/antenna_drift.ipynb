{
 "cells": [
  {
   "cell_type": "code",
   "execution_count": 1,
   "metadata": {},
   "outputs": [
    {
     "name": "stdout",
     "output_type": "stream",
     "text": [
      "loaded data with shape torch.Size([1022, 192, 983])\n"
     ]
    }
   ],
   "source": [
    "import torch, sys\n",
    "sys.path.append('/home/dgotzens/scripts')\n",
    "from timedataparser import load_all\n",
    "import pdfdefaults as pdf\n",
    "import matplotlib.pyplot as plt\n",
    "from matplotlib.ticker import EngFormatter\n",
    "from matplotlib.dates import DateFormatter\n",
    "import tools\n",
    "\n",
    "date='23-10-09'\n",
    "# date = '24-02-16'\n",
    "header,time,data,temperature,reboots = load_all(f'/home/dgotzens/recording/{date}/', True)\n",
    "M,K,L = data.shape\n",
    "# maxdist = 50\n",
    "maxdist = 25\n",
    "torch.Tensor.dB = lambda self: 20*(self).log10()\n",
    "torch.Tensor.dBr = lambda self: (self/self.max()).dB()\n"
   ]
  },
  {
   "cell_type": "code",
   "execution_count": 2,
   "metadata": {},
   "outputs": [],
   "source": [
    "N=2**14\n",
    "drift = torch.empty((K,L),dtype=torch.cfloat)\n",
    "nmin, nmax = int(1.4*N/maxdist), int(2*N/maxdist)\n",
    "window = torch.hann_window(M)\n",
    "fft = torch.fft.fft(window[:,None,None]*data, n=N, dim=0)\n",
    "n = fft.mean(1).abs()[nmin:nmax,:].argmax(0) + nmin\n",
    "for l in range(L):\n",
    "    drift[:,l] = fft[n[l],:,l] \n",
    "drift /= fft[n[0],:,0,None]"
   ]
  },
  {
   "cell_type": "code",
   "execution_count": 3,
   "metadata": {},
   "outputs": [],
   "source": [
    "Ntx,Nrx = 12,16\n",
    "driftmatrix = drift.unflatten(0, (Ntx,Nrx))**2\n",
    "txdrift = driftmatrix[:,0,:]\n",
    "rxdrift = 10**(driftmatrix/txdrift[:,None,:]).log10().mean(0)\n",
    "\n",
    "pdf.setup()\n",
    "fig, ax = plt.subplots(2,2, sharex=True)\n",
    "txstyles = [f'{col}{linestyle}' for col in 'bgrk' for linestyle in ('-','-.','--')]\n",
    "for id, style in enumerate(txstyles):\n",
    "    ax[0,0].plot(time[::10], txdrift[id,::10].abs(), style)\n",
    "    ax[1,0].plot(time[::10], tools.unwrap(txdrift[id,::10].angle())*180/torch.pi, style)\n",
    "\n",
    "ax[0,0].set_title('Tx-Array\\namplitude')\n",
    "ax[1,0].set_title('phase')\n",
    "\n",
    "ax[1,0].yaxis.set_major_formatter(EngFormatter('°'))\n",
    "ax[1,0].xaxis.set_major_formatter(DateFormatter('%H:%M'))\n",
    "plt.setp(ax[1,0].xaxis.get_majorticklabels(), rotation=90)\n",
    "\n",
    "rxstyles = [f'{col}{linestyle}' for col in 'bgrk' for linestyle in ('-','-.','--',':')]\n",
    "for id, style in enumerate(rxstyles):\n",
    "    ax[0,1].plot(time[::10], rxdrift[id,::10].abs(), style)\n",
    "    phase = tools.unwrap(rxdrift[id,::10].angle())*180/torch.pi\n",
    "    ax[1,1].plot(time[::10], phase, style, label=f'chip{id//4}, ant{id%4}')\n",
    "ax[0,1].set_title('Rx-Array\\namplitude')\n",
    "ax[1,1].set_title('phase')\n",
    "ax[1,1].xaxis.set_major_formatter(DateFormatter('%H:%M'))\n",
    "ax[1,1].yaxis.set_major_formatter(EngFormatter('°'))\n",
    "plt.setp(ax[1,1].xaxis.get_majorticklabels(), rotation=90)\n",
    "for a in ax.flat:\n",
    "    a.grid()\n",
    "fig.legend(*ax[1,1].get_legend_handles_labels(), bbox_to_anchor=(0.5,0), loc='upper center', ncol=4)\n",
    "fig.set_size_inches(1*pdf.a4_textwidth,0.8*pdf.a4_textwidth)\n",
    "fig.savefig('/home/dgotzens/thesis/figures/antenna_drift.pdf', bbox_inches='tight')"
   ]
  },
  {
   "cell_type": "code",
   "execution_count": null,
   "metadata": {},
   "outputs": [],
   "source": []
  }
 ],
 "metadata": {
  "kernelspec": {
   "display_name": ".venv",
   "language": "python",
   "name": "python3"
  },
  "language_info": {
   "codemirror_mode": {
    "name": "ipython",
    "version": 3
   },
   "file_extension": ".py",
   "mimetype": "text/x-python",
   "name": "python",
   "nbconvert_exporter": "python",
   "pygments_lexer": "ipython3",
   "version": "3.11.2"
  }
 },
 "nbformat": 4,
 "nbformat_minor": 2
}
