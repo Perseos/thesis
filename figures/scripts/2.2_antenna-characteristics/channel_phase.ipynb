{
 "cells": [
  {
   "cell_type": "code",
   "execution_count": 2,
   "metadata": {},
   "outputs": [],
   "source": [
    "import matplotlib.pyplot as plt\n",
    "from matplotlib.ticker import EngFormatter\n",
    "import torch, pickle, sys\n",
    "sys.path.append('/home/dgotzens/scripts/')\n",
    "import pdfdefaults as pdf\n",
    "# setup\n",
    "#pdf.setup()\n",
    "nfft = 2**10\n",
    "\n",
    "pi = 3.141592653589 \n",
    "maxdist = 50\n",
    "lightspeed = 299_792_458 \n",
    "f_start, f_end = 76_009_996_288.0, 80_289_505_280.0\n",
    "t_chirp = 0.000_064_890_002_249_740_060\n",
    "hertz_per_meter = (f_end-f_start) / t_chirp / lightspeed\n",
    "bins_per_meter = nfft / maxdist\n",
    "\n",
    "folder = '/home/dgotzens/scripts/2.2_antenna-characteristics/measured/'\n",
    "params = pickle.load(open(folder+'feparams.pkl', 'rb'))\n",
    "refl = pickle.load(open(folder+'refl_params.pkl'))\n",
    "tx,ty,rx,ry = params['txPosX'], params['txPosY'], params['rxPosX'], params['rxPosY']\n",
    "\n",
    "\n",
    "folder = '/home/dgotzens/recording/'\n",
    "\n",
    "def r_est(R, theta0, exc, theta, K=len(tx)):\n",
    "    txpos = torch.tensor([tx,ty,[-exc]*K])\n",
    "    rxpos = torch.tensor([rx,ry,[-exc]*K])\n",
    "    reflpos = (R-exc)*torch.stack([-torch.sin(theta-theta0),\\\n",
    "                            torch.zeros(len(theta)), \\\n",
    "                            torch.cos(theta-theta0)],0)\n",
    "\n",
    "    return 0.5*torch.sqrt(((txpos[:,:,None]-reflpos[:,None,:])**2).sum(0))\\\n",
    "          + 0.5*torch.sqrt(((rxpos[:,:,None]-reflpos[:,None,:])**2).sum(0))"
   ]
  },
  {
   "cell_type": "code",
   "execution_count": null,
   "metadata": {},
   "outputs": [],
   "source": [
    "fig,axes = plt.subplots(2,2, sharex=True,sharey=True, layout='compressed')\n",
    "fig.set_size_inches(pdf.a4_textwidth, 0.6*pdf.a4_textwidth)\n",
    "\n",
    "measurement = 'a'\n",
    "for n, dist in enumerate((2,8,18,32)):\n",
    "    with open(f'{folder}{measurement}{dist:02d}_angle.pkl', 'rb') as f:\n",
    "        angle = pickle.load(f)\n",
    "    angle_deg = [round(a*180/pi-90) for a in angle]\n",
    "    l_deg = [angle_deg.index(a) for a in sorted(set(angle_deg))]\n",
    "    angle_deg = list(sorted(set(angle_deg)))\n",
    "    data = torch.load(f'{folder}{measurement}{dist:02d}_data.pt')[:,:,l_deg]\n",
    "    M,K,L = data.shape\n",
    "\n",
    "    print(f'loaded data for {dist}m. processing...')\n",
    "\n",
    "    bp_start = int((dist-0.5)*bins_per_meter)\n",
    "    bp_len = int(1*bins_per_meter)\n",
    "\n",
    "    window = torch.hann_window(M)\n",
    "    window = window / window.sum()\n",
    "\n",
    "    gain = torch.empty(L)\n",
    "\n",
    "    fft = torch.fft.fft(window[:,None,None]*data, n=nfft, dim=0)\n",
    "    m_refl = fft[bp_start:bp_start+bp_len,:,:].abs().mean(1).argmax(0) + bp_start\n",
    "    gain = fft.abs()[m_refl, :, range(L)]\n",
    "    print(gain.shape)\n",
    "    im = ax[m,n].imshow(20*gain.T.log10()-20*gain.T.max().log10(), origin='lower', vmin=-30, vmax=0, cmap='jet')\n",
    "    ax[m,n].set_yticks(range(0,192,16*3), minor=False)\n",
    "    ax[m,n].set_yticks(range(0,192,16), minor=True)\n",
    "    ax[m,n].set_xticks(range(0,L,L//6), [f'{round(angle_deg[l],-1)}°' for l in range(0,L,L//6)])\n",
    "    ax[m,n].grid()\n",
    "    ax[m,n].set_title(f'{dist}m, ' + ('horizontal','vertical')[m])\n",
    "ax[0,n].set_ylabel('channel')"
   ]
  }
 ],
 "metadata": {
  "kernelspec": {
   "display_name": ".venv",
   "language": "python",
   "name": "python3"
  },
  "language_info": {
   "codemirror_mode": {
    "name": "ipython",
    "version": 3
   },
   "file_extension": ".py",
   "mimetype": "text/x-python",
   "name": "python",
   "nbconvert_exporter": "python",
   "pygments_lexer": "ipython3",
   "version": "3.11.2"
  }
 },
 "nbformat": 4,
 "nbformat_minor": 2
}
