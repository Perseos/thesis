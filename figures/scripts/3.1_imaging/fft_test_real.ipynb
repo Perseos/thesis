{
 "cells": [
  {
   "cell_type": "code",
   "execution_count": 1,
   "metadata": {},
   "outputs": [
    {
     "name": "stdout",
     "output_type": "stream",
     "text": [
      "torch.Size([1022, 192, 1924])\n"
     ]
    }
   ],
   "source": [
    "import torch, numpy, pickle, sys\n",
    "sys.path.append('/home/dgotzens/scripts')\n",
    "import pdfdefaults as pdf\n",
    "import matplotlib.pyplot as plt\n",
    "from matplotlib.ticker import EngFormatter, FuncFormatter\n",
    "from math import sin,cos,sqrt,log10,atan2\n",
    "pi = 3.141592653589 \n",
    "maxdist = 50\n",
    "c0 = 299_792_458 \n",
    "f0, f1 = 76_009_996_288.0, 80_289_505_280.0\n",
    "omega0, omega1 = 2*pi*f0, 2*pi*f1\n",
    "\n",
    "t_chirp = 0.000_064_890_002_249_740_060\n",
    "fs = 22e6\n",
    "Ts=1/fs\n",
    "\n",
    "omegadot = (omega1-omega0)/t_chirp\n",
    "\n",
    "folder = '/home/dgotzens/scripts/2.2_antenna-characteristics/measured/'\n",
    "params = pickle.load(open(folder+'feparams.pkl', 'rb'))\n",
    "tx,ty,rx,ry,vx,vy = params['txPosX'], params['txPosY'], params['rxPosX'], params['rxPosY'], params['vxPosX'], params['vxPosY']\n",
    "\n",
    "M=1022\n",
    "K=len(tx)\n",
    "ula_idx = torch.full((max(vx)+1,max(vy)+1), -1)\n",
    "for k, (x,y) in enumerate(zip(vx,vy)):\n",
    "    if ula_idx[x,y] == -1:\n",
    "        ula_idx[x,y] = k\n",
    "\n",
    "def calc_image(data, weights, settings):\n",
    "    # range FFT\n",
    "    N, window = settings['N_range'], settings['range_window']\n",
    "    range_fft = torch.fft.fft(window[:,None]*data, N, 0)\n",
    "    range_fft /= window.sum()\n",
    "    # apply calibration\n",
    "    range_fft /= weights        \n",
    "\n",
    "    \n",
    "    if not settings['enable_elevation']:\n",
    "        N, window = settings['N_azm'], settings['azm_window']\n",
    "        ula = settings['ula_idx'][:,0]\n",
    "        azimuth_fft = torch.fft.fftshift(torch.fft.fft(window*range_fft[:,ula],N,1),1)\n",
    "        return azimuth_fft\n",
    "    \n",
    "    # reshape into ULA\n",
    "    idx = settings['ula_idx']\n",
    "    padded_shape = (settings['N_range'], *idx.shape)\n",
    "    fft_padded = torch.zeros(padded_shape, dtype=torch.cfloat)\n",
    "\n",
    "    for m in range(idx.shape[0]):\n",
    "        for n in range(idx.shape[1]):\n",
    "            if idx[m,n] >= 0:\n",
    "                fft_padded[:,m,n] = range_fft[:,idx[m,n]]\n",
    "    \n",
    "    # azimuth FFT\n",
    "    N, window = settings['N_azm'], settings['azm_window']\n",
    "    azimuth_fft = torch.fft.fft(window[None,:,None]*fft_padded,N,1)\n",
    "    azimuth_fft /= window.sum()\n",
    "\n",
    "    # deconvolve\n",
    "    gaps = idx>=0\n",
    "    gaps_fft = torch.fft.fft(window[:,None]*gaps, N, 0)\n",
    "    azimuth_fft /= (gaps_fft+1) # +1 to avoid divergence\n",
    "    # elevation FFT\n",
    "    N, window = settings['N_elv'], settings['elv_window']\n",
    "    elevation_fft = torch.fft.fft(window*azimuth_fft, N, 2)\n",
    "    elevation_fft /= window.sum()\n",
    "    \n",
    "    return elevation_fft\n",
    "\n",
    "def r_est(R, theta0, K=192):\n",
    "    # 3xK\n",
    "    txpos = torch.tensor([tx,ty,[0]*K])\n",
    "    rxpos = torch.tensor([rx,ry,[0]*K])\n",
    "    # 3x1xR\n",
    "    reflpos = R[None,None,:]*torch.tensor([-sin(-theta0), 0, cos(-theta0)])[:,None,None]\n",
    "    # 3xKx1 - 3x1xR = 3xKxR -> KxR\n",
    "    return 0.5*torch.sqrt(((txpos[:,:,None]-reflpos)**2).sum(0))\\\n",
    "          + 0.5*torch.sqrt(((rxpos[:,:,None]-reflpos)**2).sum(0))\n",
    "\n",
    "dBr = lambda x: 20*(x/x.abs().max()).log10()\n",
    "\n",
    "folder = '/home/dgotzens/scripts/3.1_imaging/example_img/'\n",
    "data = torch.load(folder+'statische_szene_turm-im-hintergrund_data.pt')\n",
    "M,K,L = data.shape\n",
    "print(data.shape)"
   ]
  },
  {
   "cell_type": "code",
   "execution_count": 2,
   "metadata": {},
   "outputs": [
    {
     "data": {
      "text/plain": [
       "25.00156751800863"
      ]
     },
     "execution_count": 2,
     "metadata": {},
     "output_type": "execute_result"
    }
   ],
   "source": [
    "slope=(f1-f0)/t_chirp\n",
    "fs*c0/(4*slope)"
   ]
  },
  {
   "cell_type": "code",
   "execution_count": 3,
   "metadata": {},
   "outputs": [],
   "source": [
    "X,Z = 240,150\n",
    "img = torch.empty((Z,X), dtype=torch.cfloat)\n",
    "img_calib = torch.empty((Z,X), dtype=torch.cfloat)\n",
    "\n",
    "settings = {\n",
    "    'N_range': 2048,\n",
    "    'N_azm':   512,\n",
    "    'range_window': torch.ones(M),\n",
    "    'azm_window': torch.ones(ula_idx.shape[0]),\n",
    "    'ula_idx': ula_idx,\n",
    "    'enable_elevation': False\n",
    "}\n"
   ]
  },
  {
   "cell_type": "code",
   "execution_count": 5,
   "metadata": {},
   "outputs": [],
   "source": [
    "for n in range(10000):\n",
    "    fft_img = calc_image(data[:,:,400], torch.ones(K),settings)\n",
    "\n",
    "#duration: 14.6s\n"
   ]
  },
  {
   "cell_type": "code",
   "execution_count": null,
   "metadata": {},
   "outputs": [],
   "source": [
    "folder = '/home/dgotzens/scripts/2.2_antenna-characteristics/measured/'\n",
    "calib = torch.load(folder+'schwenks_channelgains.pt')\n",
    "fft_img_calib = calc_image(data[:,:,400], calib,settings)\n",
    "# pdf.setup()\n",
    "\n",
    "rangefft = torch.fft.fft(data[:,:,400], n=2048, dim=0)\n",
    "%matplotlib inline\n",
    "plt.plot(torch.linspace(0,25,2048),rangefft.abs().mean(1))\n",
    "plt.show()\n",
    "plt.plot(numpy.unwrap(rangefft[rangefft.abs().mean(1).argmax(0), ula_idx[:,0]].angle()))\n",
    "plt.plot(numpy.unwrap((rangefft[rangefft.abs().mean(1).argmax(0), ula_idx[:,0]]/calib[ula_idx[:,0]]).angle()))\n",
    "plt.show()"
   ]
  },
  {
   "cell_type": "code",
   "execution_count": 29,
   "metadata": {},
   "outputs": [],
   "source": [
    "x = torch.linspace(-12,12,X)\n",
    "y = torch.linspace(0,15,Z)\n",
    "r = torch.sqrt(x[:,None]**2 + y**2)\n",
    "theta = torch.atan2(-x[:,None], y)\n",
    "m_idx = (r/maxdist * settings['N_range'])\n",
    "k_idx = ((theta.sin()+1)/2*(settings['N_azm']-1))\n",
    "for x in range(X):\n",
    "    for y in range(Z):\n",
    "        m = int(m_idx[x,y])\n",
    "        k = int(k_idx[x,y])\n",
    "        img[y,x]=fft_img.abs()[m,k]\n",
    "        img_calib[y,x]=fft_img_calib.abs()[m,k]\n"
   ]
  },
  {
   "cell_type": "code",
   "execution_count": 31,
   "metadata": {},
   "outputs": [],
   "source": [
    "pdf.setup()\n",
    "plt.figure(1,layout='constrained')\n",
    "plt.pcolormesh(dBr(img.abs()), vmin=-65, cmap='viridis', rasterized=True)\n",
    "# plt.pcolormesh(img.abs(), cmap='viridis')\n",
    "plt.gca().set_aspect('equal')\n",
    "plt.colorbar(format=EngFormatter('dBr'), shrink=0.8)\n",
    "plt.xticks(torch.linspace(0,X,5).int(), [f'{x}m' for x in range(-12,12+1,6)])\n",
    "plt.xticks(torch.linspace(0,X,25), minor=True)\n",
    "plt.xlabel('x')\n",
    "plt.yticks(torch.linspace(0,Z,4).int(), [f'{z}m' for z in range(0,15+1,5)])\n",
    "plt.yticks(torch.linspace(0,Z,16), minor=True)\n",
    "plt.ylabel('y')\n",
    "plt.grid()\n",
    "plt.grid(which='minor', linewidth=0.3)\n",
    "plt.gcf().set_size_inches(0.8*pdf.a4_textwidth, 0.4*pdf.a4_textwidth)\n",
    "# plt.show()\n",
    "plt.savefig('/home/dgotzens/thesis/figures/testimg_uncalibrated_fft.pdf')\n",
    "plt.close(1)\n",
    "\n",
    "plt.figure(2,layout='constrained')\n",
    "plt.pcolormesh(dBr(img_calib.abs()), vmin=-65, cmap='viridis', rasterized=True)\n",
    "# plt.pcolormesh(img.abs(), cmap='viridis')\n",
    "plt.gca().set_aspect('equal')\n",
    "plt.colorbar(format=EngFormatter('dBr'), shrink=0.8)\n",
    "plt.xticks(torch.linspace(0,X,5).int(), [f'{x}m' for x in range(-12,12+1,6)])\n",
    "plt.xticks(torch.linspace(0,X,25), minor=True)\n",
    "plt.xlabel('x')\n",
    "plt.yticks(torch.linspace(0,Z,4).int(), [f'{z}m' for z in range(0,15+1,5)])\n",
    "plt.yticks(torch.linspace(0,Z,16), minor=True)\n",
    "plt.ylabel('y')\n",
    "plt.grid()\n",
    "plt.grid(which='minor', linewidth=0.3)\n",
    "plt.gcf().set_size_inches(0.8*pdf.a4_textwidth, 0.4*pdf.a4_textwidth)\n",
    "# plt.show()\n",
    "plt.savefig('/home/dgotzens/thesis/figures/testimg_calibrated_fft.pdf')\n",
    "plt.close(2)"
   ]
  }
 ],
 "metadata": {
  "kernelspec": {
   "display_name": ".venv",
   "language": "python",
   "name": "python3"
  },
  "language_info": {
   "codemirror_mode": {
    "name": "ipython",
    "version": 3
   },
   "file_extension": ".py",
   "mimetype": "text/x-python",
   "name": "python",
   "nbconvert_exporter": "python",
   "pygments_lexer": "ipython3",
   "version": "3.11.2"
  }
 },
 "nbformat": 4,
 "nbformat_minor": 2
}
