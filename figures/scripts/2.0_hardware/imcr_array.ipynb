{
 "cells": [
  {
   "cell_type": "code",
   "execution_count": 49,
   "metadata": {},
   "outputs": [],
   "source": [
    "import pickle, sys, torch\n",
    "sys.path.append('/home/dgotzens/scripts')\n",
    "import pdfdefaults as pdf\n",
    "import matplotlib.pyplot as plt\n",
    "from matplotlib.ticker import EngFormatter\n",
    "from matplotlib.colors import ListedColormap\n",
    "\n",
    "folder = '/home/dgotzens/scripts/2.2_antenna-characteristics/measured/'\n",
    "params = pickle.load(open(folder+'feparams.pkl', 'rb'))\n",
    "tx,ty,rx,ry,vx,vy = params['txPosX'], params['txPosY'], params['rxPosX'], params['rxPosY'], params['vxPosX'], params['vxPosY']"
   ]
  },
  {
   "cell_type": "code",
   "execution_count": 5,
   "metadata": {},
   "outputs": [],
   "source": [
    "pdf.setup()\n",
    "plt.figure(layout='constrained')\n",
    "img = torch.zeros((max(vx)+1, max(vy)+1))\n",
    "for x,y in zip(vx,vy):\n",
    "    img[x,y] += 1\n",
    "plt.pcolormesh(img.T, cmap='Greens')\n",
    "cbar = plt.colorbar()\n",
    "cbar.set_ticks(range(3))\n",
    "cbar.set_label('no. elements')\n",
    "#plt.scatter(vx, vy) \n",
    "plt.xticks(range(max(vx)+1), minor=True)\n",
    "plt.xlabel(r'$x$ $[d=\\lambda_0/2]$')\n",
    "plt.ylabel(r'$y$ $[d=\\lambda_0/2]$')\n",
    "plt.xticks(range(0, max(vx)+2, 10), minor=False)\n",
    "plt.yticks(range(0, max(vy)+2), minor=False)\n",
    "plt.grid(which='major', color='k',linewidth=0.5)\n",
    "plt.grid(which='minor', color='k',linewidth=0.1)\n",
    "plt.gcf().set_size_inches(pdf.a4_textwidth, 0.3*pdf.a4_textwidth)\n",
    "plt.savefig('/home/dgotzens/thesis/figures/virt_array.pdf')"
   ]
  },
  {
   "cell_type": "code",
   "execution_count": 58,
   "metadata": {},
   "outputs": [],
   "source": [
    "%matplotlib inline\n",
    "K = len(tx)\n",
    "Ntx = 12\n",
    "Nrx = 16\n",
    "\n",
    "# txcols = ['kbrg'[(k//Nrx)//3] for k in range(K)]\n",
    "# rxcols = ['bgrk'[(k%Nrx)//4] for k in range(K)]\n",
    "\n",
    "txchip = [(k//Nrx)//3 for k in range(K)]\n",
    "rxchip = [(k%Nrx)//4 for k in range(K)]\n",
    "\n",
    "txcols = ListedColormap(['k','b','r','g'])\n",
    "rxcols = ListedColormap(['b','g','r','k'])\n",
    "\n",
    "pdf.setup()\n",
    "fig, (top,bottom) = plt.subplots(2)\n",
    "\n",
    "scatter = top.scatter(tx,ty,c=txchip,cmap=txcols, marker='x')\n",
    "top.set_aspect('equal')\n",
    "top.set_yticks(torch.arange(-40,-5,2)/1000, minor=True)\n",
    "top.set_yticks(torch.arange(-40,-5,10)/1000, range(-40,-5,10))\n",
    "top.set_xticks(torch.arange(-60,60,2)/1000, minor=True)\n",
    "top.set_xticks(torch.arange(-60,60,10)/1000, range(-60,60,10))\n",
    "top.legend(handles=scatter.legend_elements()[0], labels=[f'chip{i}' for i in range(4)])\n",
    "\n",
    "scatter = bottom.scatter(rx,ry,c=rxchip,cmap=rxcols, marker='^')\n",
    "bottom.set_aspect('equal')\n",
    "bottom.set_yticks(torch.arange(-40,-5,2)/1000, minor=True)\n",
    "bottom.set_yticks(torch.arange(-40,-5,10)/1000, range(-40,-5,10))\n",
    "bottom.set_xticks(torch.arange(-60,60,2)/1000, minor=True)\n",
    "bottom.set_xticks(torch.arange(-60,60,10)/1000, range(-60,60,10))\n",
    "bottom.legend(handles=scatter.legend_elements()[0], labels=[f'chip{i}' for i in range(4)])\n",
    "\n",
    "top.grid()\n",
    "bottom.grid()\n",
    "top.grid(which='minor', linewidth=0.05)\n",
    "bottom.grid(which='minor', linewidth=0.05)\n",
    "top.set_xlabel('x [mm]')\n",
    "top.set_ylabel('y [mm]')\n",
    "top.set_title('Tx Array')\n",
    "bottom.set_xlabel('x [mm]')\n",
    "bottom.set_ylabel('y [mm]')\n",
    "bottom.set_title('Rx Array')\n",
    "\n",
    "fig.set_size_inches(pdf.a4_textwidth,0.8*pdf.a4_textwidth)\n",
    "fig.savefig('/home/dgotzens/thesis/figures/imcr_antpos.pdf')"
   ]
  }
 ],
 "metadata": {
  "kernelspec": {
   "display_name": ".venv",
   "language": "python",
   "name": "python3"
  },
  "language_info": {
   "codemirror_mode": {
    "name": "ipython",
    "version": 3
   },
   "file_extension": ".py",
   "mimetype": "text/x-python",
   "name": "python",
   "nbconvert_exporter": "python",
   "pygments_lexer": "ipython3",
   "version": "3.11.2"
  }
 },
 "nbformat": 4,
 "nbformat_minor": 2
}
