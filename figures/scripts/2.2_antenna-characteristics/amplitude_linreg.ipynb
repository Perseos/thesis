{
 "cells": [
  {
   "cell_type": "code",
   "execution_count": 3,
   "metadata": {},
   "outputs": [],
   "source": [
    "import matplotlib.pyplot as plt\n",
    "from matplotlib.ticker import EngFormatter, FuncFormatter\n",
    "import torch, pickle, sys\n",
    "sys.path.append('/home/dgotzens/scripts/')\n",
    "import pdfdefaults as pdf\n",
    "# setup\n",
    "nfft = 2**12\n",
    "\n",
    "pi = 3.141592653589 \n",
    "maxdist = 50\n",
    "lightspeed = 299_792_458 \n",
    "f_start, f_end = 76_009_996_288.0, 80_289_505_280.0\n",
    "t_chirp = 0.000_064_890_002_249_740_060\n",
    "omega0 = 2*pi*f_start\n",
    "omegadot = 2*pi*(f_end-f_start) / t_chirp\n",
    "hertz_per_meter = (f_end-f_start) / t_chirp / lightspeed\n",
    "bins_per_meter = nfft / maxdist\n",
    "\n",
    "folder = '/home/dgotzens/scripts/2.2_antenna-characteristics/measured/'\n",
    "params = pickle.load(open(folder+'feparams.pkl', 'rb'))\n",
    "tx,ty,rx,ry = params['txPosX'], params['txPosY'], params['rxPosX'], params['rxPosY']"
   ]
  },
  {
   "cell_type": "code",
   "execution_count": 4,
   "metadata": {},
   "outputs": [
    {
     "name": "stdout",
     "output_type": "stream",
     "text": [
      "loaded data for 2m. processing...\n",
      "loaded data for 8m. processing...\n",
      "loaded data for 18m. processing...\n",
      "loaded data for 32m. processing...\n"
     ]
    }
   ],
   "source": [
    "dists = (2,8,18,32)\n",
    "N = len(dists)\n",
    "K = 192\n",
    "maxgain = torch.empty(K,N)\n",
    "exact_dists = torch.empty(K,N)\n",
    "folder = '/home/dgotzens/recording/'\n",
    "\n",
    "for n,dist in enumerate(dists):\n",
    "    data = torch.load(f'{folder}a{dist:02d}_data.pt')\n",
    "    M,K,L = data.shape\n",
    "    print(f'loaded data for {dist}m. processing...')\n",
    "\n",
    "    bp_start = int((dist-0.5)*bins_per_meter)\n",
    "    bp_len = int(1*bins_per_meter)\n",
    "\n",
    "    window = torch.hann_window(M)\n",
    "    window = window / window.sum()\n",
    "\n",
    "    gain = torch.empty(K,L)\n",
    "    m_refl = torch.empty(K,L, dtype=int)\n",
    "    for l in range(L):\n",
    "        fft = torch.fft.fft(window[:,None]*data[:,:,l], n=nfft, dim=0)\n",
    "        m_refl[:,l] = fft[bp_start:bp_start+bp_len,:].abs().argmax(0) + bp_start\n",
    "        gain[:,l] = fft.abs()[m_refl[:,l], range(K)]\n",
    "    maxgain[:,n] = gain.max(1).values\n",
    "    idx = gain.max(1).indices\n",
    "    exact_dists[:,n] = m_refl[range(K),idx]/bins_per_meter"
   ]
  },
  {
   "cell_type": "code",
   "execution_count": 5,
   "metadata": {},
   "outputs": [],
   "source": [
    "pdf.setup()\n",
    "# %matplotlib inline\n",
    "attenuation = lambda d : lightspeed**2 / (2*d**2*(omega0*lightspeed + omegadot*2*d)) \n",
    "gain_1m = (attenuation(exact_dists)*maxgain).sum(1) / ((attenuation(exact_dists))**2).sum(1)\n",
    "\n",
    "k=gain_1m.argmax()\n",
    "plt.figure(figsize=(0.5*pdf.a4_textwidth, 0.4*pdf.a4_textwidth), layout='constrained')\n",
    "plt.plot(torch.arange(1.5,35,0.5), gain_1m[k]*attenuation(torch.arange(1.5,35,0.5)), 'k:', label='data')\n",
    "plt.scatter(exact_dists[k,:], maxgain[k,:], label='regression')\n",
    "plt.title('Linear Regression for channel 0')\n",
    "plt.gca().xaxis.set_major_formatter(EngFormatter('m'))\n",
    "plt.grid()\n",
    "plt.xlabel('distance')\n",
    "plt.ylabel('amplitude')\n",
    "# plt.show()\n",
    "plt.savefig('/home/dgotzens/thesis/figures/ch0_amplitude_linreg.pdf')\n"
   ]
  },
  {
   "cell_type": "code",
   "execution_count": 6,
   "metadata": {},
   "outputs": [],
   "source": [
    "Ntx,Nrx = 12,16\n",
    "gainmatrix = gain_1m.unflatten(0,(Ntx,Nrx))\n",
    "mse = (gain_1m[:,None]*attenuation(exact_dists) - maxgain).square().mean(1)\n",
    "# %matplotlib inline\n",
    "pdf.setup()\n",
    "\n",
    "from mpl_toolkits.axes_grid1 import make_axes_locatable\n",
    "fig, (left,right) = plt.subplots(1,2,layout='tight')\n",
    "fig.set_size_inches(pdf.a4_textwidth,0.4*pdf.a4_textwidth)\n",
    "im1 = left.pcolormesh(gainmatrix)\n",
    "left.set_yticks(range(0,Ntx+1,3))\n",
    "left.set_xticks(range(0,Nrx+1,4))\n",
    "left.set_ylabel('tx-id')\n",
    "left.set_xlabel('rx-id')\n",
    "left.set_title('Extrapolated Transmission Coefficients')\n",
    "left.set_aspect('equal')\n",
    "left.grid()\n",
    "\n",
    "divider = make_axes_locatable(left)\n",
    "cax = divider.append_axes('right', size='5%', pad=0.1)\n",
    "fig.colorbar(im1 , cax=cax, orientation='vertical')\n",
    "\n",
    "im2 = right.pcolormesh(mse.unflatten(0,(Ntx,Nrx)))\n",
    "right.grid()\n",
    "right.set_yticks(range(0,Ntx+1,3))\n",
    "right.set_xticks(range(0,Nrx+1,4))\n",
    "right.set_ylabel('tx-id')\n",
    "right.set_xlabel('rx-id')\n",
    "right.set_title('Mean Square Error')\n",
    "right.set_aspect('equal')\n",
    "\n",
    "divider = make_axes_locatable(right)\n",
    "cax = divider.append_axes('right', size='5%', pad=0.1)\n",
    "fig.colorbar(im2, cax=cax, orientation='vertical')\n",
    "\n",
    "fig.savefig('/home/dgotzens/thesis/figures/amplitude_linreg.pdf')"
   ]
  },
  {
   "cell_type": "code",
   "execution_count": 10,
   "metadata": {},
   "outputs": [
    {
     "name": "stdout",
     "output_type": "stream",
     "text": [
      "['4.134e+06', '7.847e+06', '7.363e+06', '6.169e+06', '5.445e+06', '6.815e+06', '5.174e+06', '3.962e+06', '3.517e+06', '2.831e+06', '2.291e+06', '2.158e+06']\n",
      "['1.000e+00', '1.463e+00', '1.676e+00', '1.426e+00', '3.797e+00', '3.635e+00', '3.999e+00', '3.703e+00', '3.391e+00', '2.867e+00', '2.751e+00', '2.631e+00', '1.393e+00', '9.871e-01', '1.129e+00', '8.201e-01']\n"
     ]
    }
   ],
   "source": [
    "Atx = gainmatrix[:,0]**2\n",
    "Arx = (gainmatrix**2/Atx[:,None]).mean(0)\n",
    "\n",
    "print([f'{float(a):.3e}' for a in Atx])\n",
    "print([f'{float(a):.3e}' for a in Arx])\n",
    "\n",
    "fig, (left,right) = plt.subplots(1,2,layout='constrained')\n",
    "fig.set_size_inches(0.8*pdf.a4_textwidth, 0.5*pdf.a4_textwidth)\n",
    "left.stem(range(Ntx),Atx)\n",
    "left.set_ylabel('gain')\n",
    "left.set_xlabel('tx-id')\n",
    "left.set_xticks(range(0,Ntx+1,Ntx//4))\n",
    "left.set_title('transmit antenna gain')\n",
    "left.grid()\n",
    "\n",
    "right.stem(range(Nrx),Arx)\n",
    "right.set_ylabel('gain')\n",
    "right.set_xlabel('rx-id')\n",
    "right.set_xticks(range(0,Nrx+1,Nrx//4))\n",
    "right.set_title('receive antenna gain')\n",
    "right.grid()\n",
    "\n",
    "fig.savefig('/home/dgotzens/thesis/figures/antenna_gains.pdf')"
   ]
  },
  {
   "cell_type": "code",
   "execution_count": 17,
   "metadata": {},
   "outputs": [
    {
     "name": "stdout",
     "output_type": "stream",
     "text": [
      "0 & \\num{4.134e+06} & 53.596°  \\\\\n",
      "1 & \\num{7.847e+06} & 125.805°  \\\\\n",
      "2 & \\num{7.363e+06} & 48.354°  \\\\\n",
      "3 & \\num{6.169e+06} & -126.556°  \\\\\n",
      "4 & \\num{5.445e+06} & -13.976°  \\\\\n",
      "5 & \\num{6.815e+06} & -111.434°  \\\\\n",
      "6 & \\num{5.174e+06} & -81.855°  \\\\\n",
      "7 & \\num{3.962e+06} & 82.760°  \\\\\n",
      "8 & \\num{3.517e+06} & 119.322°  \\\\\n",
      "9 & \\num{2.831e+06} & 1.485°  \\\\\n",
      "10 & \\num{2.291e+06} & 7.703°  \\\\\n",
      "11 & \\num{2.158e+06} & -53.846°  \\\\\n",
      "\n",
      "0 & \\num{1.000} & 0.000°  \\\\\n",
      "1 & \\num{1.463} & -7.095°  \\\\\n",
      "2 & \\num{1.676} & -26.095°  \\\\\n",
      "3 & \\num{1.426} & 0.712°  \\\\\n",
      "4 & \\num{3.797} & -1.052°  \\\\\n",
      "5 & \\num{3.635} & 26.672°  \\\\\n",
      "6 & \\num{3.999} & 42.318°  \\\\\n",
      "7 & \\num{3.703} & -2.503°  \\\\\n",
      "8 & \\num{3.391} & 49.492°  \\\\\n",
      "9 & \\num{2.867} & -2.698°  \\\\\n",
      "10 & \\num{2.751} & 69.663°  \\\\\n",
      "11 & \\num{2.631} & -40.625°  \\\\\n",
      "12 & \\num{1.393} & 8.481°  \\\\\n",
      "13 & \\num{0.987} & -11.289°  \\\\\n",
      "14 & \\num{1.129} & -1.515°  \\\\\n",
      "15 & \\num{0.820} & -5.109°  \\\\\n"
     ]
    }
   ],
   "source": [
    "txgain = ['4.134e+06', '7.847e+06', '7.363e+06', '6.169e+06', '5.445e+06', '6.815e+06', '5.174e+06', '3.962e+06', '3.517e+06', '2.831e+06', '2.291e+06', '2.158e+06']\n",
    "rxgain = ['1.000', '1.463', '1.676', '1.426', '3.797', '3.635', '3.999', '3.703', '3.391', '2.867', '2.751', '2.631', '1.393', '0.987', '1.129', '0.820']\n",
    "txphi = ['53.596', '125.805', '48.354', '-126.556', '-13.976', '-111.434', '-81.855', '82.760', '119.322', '1.485', '7.703', '-53.846']\n",
    "rxphi = ['0.000', '-7.095', '-26.095', '0.712', '-1.052', '26.672', '42.318', '-2.503', '49.492', '-2.698', '69.663', '-40.625', '8.481', '-11.289', '-1.515', '-5.109']\n",
    "\n",
    "\n",
    "\n",
    "for i, (gain,angl) in enumerate(zip(txgain,txphi)):\n",
    "    print(str(i) + r' & \\num{' + gain + r'} & ' + angl  +r'°  \\\\')\n",
    "\n",
    "print()\n",
    "\n",
    "for i, (gain,angl) in enumerate(zip(rxgain,rxphi)):\n",
    "    print(str(i) + r' & \\num{' + gain + r'} & ' + angl  +r'°  \\\\')"
   ]
  },
  {
   "cell_type": "code",
   "execution_count": null,
   "metadata": {},
   "outputs": [],
   "source": []
  }
 ],
 "metadata": {
  "kernelspec": {
   "display_name": ".venv",
   "language": "python",
   "name": "python3"
  },
  "language_info": {
   "codemirror_mode": {
    "name": "ipython",
    "version": 3
   },
   "file_extension": ".py",
   "mimetype": "text/x-python",
   "name": "python",
   "nbconvert_exporter": "python",
   "pygments_lexer": "ipython3",
   "version": "3.11.2"
  }
 },
 "nbformat": 4,
 "nbformat_minor": 2
}
